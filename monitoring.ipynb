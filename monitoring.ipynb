{
 "cells": [
  {
   "cell_type": "code",
   "execution_count": 5,
   "metadata": {},
   "outputs": [],
   "source": [
    "import time\n",
    "import requests\n",
    "from datetime import datetime\n",
    "from ping3 import ping\n",
    "import re\n",
    "\n",
    "def sanitize_url(url):\n",
    "    # get only domain name  \n",
    "    url = re.sub(r'^https?://', '', url)\n",
    "    url = re.sub(r'^www\\.', '', url)\n",
    "    url = re.sub(r'/$', '', url)\n",
    "    return url\n",
    "\n",
    "def check_website_status(url):\n",
    "    try:\n",
    "        response = requests.get(url)\n",
    "        return response.status_code\n",
    "    except Exception as e:\n",
    "        print(f'Error: {e}')\n",
    "        return None\n",
    "\n",
    "def ping_website(url, timeout=4):\n",
    "    domain = sanitize_url(url)\n",
    "    results = {\n",
    "        'url': url,\n",
    "        'ping_time': None,\n",
    "        'status_code': None,\n",
    "        'error': \"\",\n",
    "        'timestamp': datetime.now().strftime('%Y-%m-%d %H:%M:%S')\n",
    "    }\n",
    "    try:\n",
    "        ping_time = ping(domain, timeout=timeout, )\n",
    "        status_code = check_website_status(url)\n",
    "        if ping_time is not None:\n",
    "            results['ping_time'] = ping_time\n",
    "        else:\n",
    "            results['error'] = 'Could not ping the website'\n",
    "        if status_code:\n",
    "            print(f'The status code for {url} is {status_code}')\n",
    "            results['status_code'] = status_code\n",
    "        return results\n",
    "    except Exception as e:\n",
    "        print(f'Error: {e}')\n",
    "        return results"
   ]
  },
  {
   "cell_type": "code",
   "execution_count": 18,
   "metadata": {},
   "outputs": [
    {
     "name": "stdout",
     "output_type": "stream",
     "text": [
      "The status code for http://ign.in/ is 200\n",
      "{'url': 'http://ign.in/',\n",
      " 'ping_time': 0.013780355453491211,\n",
      " 'status_code': 200,\n",
      " 'error': '',\n",
      " 'timestamp': '2024-05-17 19:04:47'}\n"
     ]
    }
   ],
   "source": [
    "from pprint import pp\n",
    "url = 'http://ign.in/'\n",
    "# url = sanitize_url(url)\n",
    "result = ping_website(url)\n",
    "pp(result)"
   ]
  },
  {
   "cell_type": "code",
   "execution_count": 17,
   "metadata": {},
   "outputs": [
    {
     "data": {
      "text/plain": [
       "0.018491268157958984"
      ]
     },
     "execution_count": 17,
     "metadata": {},
     "output_type": "execute_result"
    }
   ],
   "source": [
    "ping('ign.com', timeout=4)"
   ]
  },
  {
   "cell_type": "code",
   "execution_count": null,
   "metadata": {},
   "outputs": [],
   "source": []
  },
  {
   "cell_type": "code",
   "execution_count": null,
   "metadata": {},
   "outputs": [],
   "source": []
  }
 ],
 "metadata": {
  "kernelspec": {
   "display_name": "base",
   "language": "python",
   "name": "python3"
  },
  "language_info": {
   "codemirror_mode": {
    "name": "ipython",
    "version": 3
   },
   "file_extension": ".py",
   "mimetype": "text/x-python",
   "name": "python",
   "nbconvert_exporter": "python",
   "pygments_lexer": "ipython3",
   "version": "3.12.2"
  }
 },
 "nbformat": 4,
 "nbformat_minor": 2
}
